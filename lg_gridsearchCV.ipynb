{
 "cells": [
  {
   "cell_type": "code",
   "execution_count": 1,
   "id": "47d6e6fd",
   "metadata": {},
   "outputs": [],
   "source": [
    "from sklearn.model_selection import train_test_split  \n",
    "from sklearn.preprocessing import StandardScaler   \n",
    "from sklearn.linear_model import LogisticRegression  \n",
    "from sklearn import datasets, linear_model, metrics\n",
    "import pandas as pd\n",
    "import matplotlib.pyplot as plt\n",
    "from sklearn.metrics import classification_report, confusion_matrix\n",
    "\n",
    "\n",
    "df= pd.read_csv(\"retailsfinal.csv\")\n"
   ]
  },
  {
   "cell_type": "code",
   "execution_count": 12,
   "id": "986497c6",
   "metadata": {},
   "outputs": [
    {
     "name": "stdout",
     "output_type": "stream",
     "text": [
      "<class 'pandas.core.frame.DataFrame'>\n",
      "RangeIndex: 57290 entries, 0 to 57289\n",
      "Data columns (total 23 columns):\n",
      " #   Column             Non-Null Count  Dtype \n",
      "---  ------             --------------  ----- \n",
      " 0   Unnamed: 0         57290 non-null  int64 \n",
      " 1   Unnamed: 0.2       57290 non-null  int64 \n",
      " 2   Unnamed: 0.1       57290 non-null  int64 \n",
      " 3   Unnamed: 0.1.1     57290 non-null  int64 \n",
      " 4   N°CANEVAS          57290 non-null  object\n",
      " 5   Date_Création      57290 non-null  object\n",
      " 6   Code_Produit       57290 non-null  int64 \n",
      " 7   Montant_Sollicité  57290 non-null  int64 \n",
      " 8   Revenu_Annuel      57290 non-null  int64 \n",
      " 9   Retenu_Mensuel     57290 non-null  int64 \n",
      " 10  Date_Naissance     57290 non-null  object\n",
      " 11  Décision_Finale    57290 non-null  int64 \n",
      " 12  Centre_Décision    57290 non-null  object\n",
      " 13  secteur_EMPLOYE    57290 non-null  int64 \n",
      " 14  secteur_INCONNU    57290 non-null  int64 \n",
      " 15  secteur_LIBERAL    57290 non-null  int64 \n",
      " 16  secteur_RETRAITES  57290 non-null  int64 \n",
      " 17  typecanevas_AUTO   57290 non-null  int64 \n",
      " 18  typecanevas_CONSO  57290 non-null  int64 \n",
      " 19  typecanevas_IMMO   57290 non-null  int64 \n",
      " 20  sexe_F             57290 non-null  int64 \n",
      " 21  sexe_M             57290 non-null  int64 \n",
      " 22  age                57290 non-null  int64 \n",
      "dtypes: int64(19), object(4)\n",
      "memory usage: 10.1+ MB\n"
     ]
    }
   ],
   "source": [
    "df.info()"
   ]
  },
  {
   "cell_type": "code",
   "execution_count": 3,
   "id": "0ca12d58",
   "metadata": {},
   "outputs": [
    {
     "data": {
      "text/plain": [
       "array([[25000000, 17340000,   450392, ...,        0,        1,       64],\n",
       "       [30000000, 21699924,        0, ...,        0,        1,       46],\n",
       "       [ 3000000, 10895184,        0, ...,        0,        1,       30],\n",
       "       ...,\n",
       "       [64000000, 31332000,        0, ...,        0,        1,       49],\n",
       "       [28000000, 18068160,    68400, ...,        0,        1,       28],\n",
       "       [ 3000000, 15176496,   442582, ...,        0,        1,       40]],\n",
       "      dtype=int64)"
      ]
     },
     "execution_count": 3,
     "metadata": {},
     "output_type": "execute_result"
    }
   ],
   "source": [
    "features= ['Montant_Sollicité','Revenu_Annuel','Retenu_Mensuel',\n",
    "           'secteur_EMPLOYE','secteur_INCONNU','secteur_LIBERAL','secteur_RETRAITES',\n",
    "           'typecanevas_AUTO','typecanevas_CONSO','typecanevas_IMMO','sexe_F','sexe_M','age']\n",
    "x = df.loc[:, features].values\n",
    "x"
   ]
  },
  {
   "cell_type": "code",
   "execution_count": 4,
   "id": "81af1a02",
   "metadata": {},
   "outputs": [
    {
     "data": {
      "text/plain": [
       "0        0\n",
       "1        0\n",
       "2        0\n",
       "3        0\n",
       "4        0\n",
       "        ..\n",
       "57285    0\n",
       "57286    0\n",
       "57287    0\n",
       "57288    0\n",
       "57289    0\n",
       "Name: Décision_Finale, Length: 57290, dtype: int64"
      ]
     },
     "execution_count": 4,
     "metadata": {},
     "output_type": "execute_result"
    }
   ],
   "source": [
    "y= df.iloc[:, 9].values\n",
    "y=df['Décision_Finale']\n",
    "y"
   ]
  },
  {
   "cell_type": "code",
   "execution_count": 5,
   "id": "5065a3a6",
   "metadata": {},
   "outputs": [
    {
     "data": {
      "text/plain": [
       "array([0, 1], dtype=int64)"
      ]
     },
     "execution_count": 5,
     "metadata": {},
     "output_type": "execute_result"
    }
   ],
   "source": [
    "df['Décision_Finale'].unique()"
   ]
  },
  {
   "cell_type": "code",
   "execution_count": 6,
   "id": "c81c41dd",
   "metadata": {},
   "outputs": [],
   "source": [
    "# Splitting the dataset into training and test set.  \n",
    "x_train, x_test, y_train, y_test= train_test_split(x, y, test_size= 0.25, random_state=0)  "
   ]
  },
  {
   "cell_type": "code",
   "execution_count": 7,
   "id": "205c88b7",
   "metadata": {},
   "outputs": [],
   "source": [
    "#feature Scaling  \n",
    "st_x= StandardScaler()    \n",
    "x_train= st_x.fit_transform(x_train)    \n",
    "x_test= st_x.transform(x_test)  "
   ]
  },
  {
   "cell_type": "code",
   "execution_count": 8,
   "id": "4b3a406a",
   "metadata": {},
   "outputs": [
    {
     "data": {
      "text/plain": [
       "LogisticRegression(random_state=0)"
      ]
     },
     "execution_count": 8,
     "metadata": {},
     "output_type": "execute_result"
    }
   ],
   "source": [
    "#Fitting Logistic Regression to the training set  \n",
    "\n",
    "classifier= LogisticRegression(random_state=0)  \n",
    "classifier.fit(x_train, y_train)  "
   ]
  },
  {
   "cell_type": "code",
   "execution_count": 9,
   "id": "1aa5f654",
   "metadata": {},
   "outputs": [
    {
     "data": {
      "text/plain": [
       "LogisticRegression(multi_class='warn', random_state=0, solver='warn')"
      ]
     },
     "execution_count": 9,
     "metadata": {},
     "output_type": "execute_result"
    }
   ],
   "source": [
    "LogisticRegression(C=1.0, class_weight=None, dual=False, fit_intercept=True,  \n",
    "                   intercept_scaling=1, l1_ratio=None, max_iter=100,  \n",
    "                   multi_class='warn', n_jobs=None, penalty='l2',  \n",
    "                   random_state=0, solver='warn', tol=0.0001, verbose=0,  \n",
    "                   warm_start=False)  \n"
   ]
  },
  {
   "cell_type": "code",
   "execution_count": 10,
   "id": "daa637d8",
   "metadata": {},
   "outputs": [],
   "source": [
    "#Predicting the test set result  \n",
    "y_pred= classifier.predict(x_test)  "
   ]
  },
  {
   "cell_type": "code",
   "execution_count": 11,
   "id": "d983a80e",
   "metadata": {},
   "outputs": [
    {
     "name": "stdout",
     "output_type": "stream",
     "text": [
      "Logistic Regression model accuracy(in %): 93.4161837603854\n"
     ]
    },
    {
     "ename": "NameError",
     "evalue": "name 'geometric_mean_score' is not defined",
     "output_type": "error",
     "traceback": [
      "\u001b[1;31m---------------------------------------------------------------------------\u001b[0m",
      "\u001b[1;31mNameError\u001b[0m                                 Traceback (most recent call last)",
      "\u001b[1;32m~\\AppData\\Local\\Temp/ipykernel_12816/3519289580.py\u001b[0m in \u001b[0;36m<module>\u001b[1;34m\u001b[0m\n\u001b[0;32m      1\u001b[0m print(\"Logistic Regression model accuracy(in %):\", \n\u001b[0;32m      2\u001b[0m metrics.accuracy_score(y_test, y_pred)*100)\n\u001b[1;32m----> 3\u001b[1;33m \u001b[0mgeometric_mean_score\u001b[0m\u001b[1;33m(\u001b[0m\u001b[0my_test\u001b[0m\u001b[1;33m,\u001b[0m \u001b[0my_pred\u001b[0m\u001b[1;33m,\u001b[0m\u001b[0maverage\u001b[0m\u001b[1;33m=\u001b[0m\u001b[1;34m\"binary\"\u001b[0m\u001b[1;33m,\u001b[0m \u001b[0mcorrection\u001b[0m\u001b[1;33m=\u001b[0m\u001b[1;36m0.001\u001b[0m\u001b[1;33m)\u001b[0m\u001b[1;33m\u001b[0m\u001b[1;33m\u001b[0m\u001b[0m\n\u001b[0m",
      "\u001b[1;31mNameError\u001b[0m: name 'geometric_mean_score' is not defined"
     ]
    }
   ],
   "source": [
    "print(\"Logistic Regression model accuracy(in %):\", \n",
    "metrics.accuracy_score(y_test, y_pred)*100)\n",
    "geometric_mean_score(y_test, y_pred,average=\"binary\", correction=0.001)\n"
   ]
  },
  {
   "cell_type": "code",
   "execution_count": 14,
   "id": "23d87bd4",
   "metadata": {},
   "outputs": [
    {
     "data": {
      "image/png": "[encoded data removed]",
      "text/plain": [
       "<Figure size 576x576 with 1 Axes>"
      ]
     },
     "metadata": {
      "needs_background": "light"
     },
     "output_type": "display_data"
    }
   ],
   "source": [
    "cm = confusion_matrix(y_test, y_pred)\n",
    "\n",
    "fig, ax = plt.subplots(figsize=(8, 8))\n",
    "ax.imshow(cm)\n",
    "ax.grid(False)\n",
    "ax.xaxis.set(ticks=(0, 1), ticklabels=('Predicted \"ACCORD\"', 'Predicted \"REJET\"'))\n",
    "ax.yaxis.set(ticks=(0, 1), ticklabels=('Actual \"ACCORD\"', 'Actual \"REJET\"'))\n",
    "ax.set_ylim(1.5, -0.5)\n",
    "for i in range(2):\n",
    "    for j in range(2):\n",
    "        ax.text(j, i, cm[i, j], ha='center', va='center', color='red')\n",
    "plt.show()"
   ]
  },
  {
   "cell_type": "code",
   "execution_count": 15,
   "id": "c1351e32",
   "metadata": {
    "scrolled": true
   },
   "outputs": [
    {
     "name": "stdout",
     "output_type": "stream",
     "text": [
      "              precision    recall  f1-score   support\n",
      "\n",
      "           0       0.94      1.00      0.97     13378\n",
      "           1       0.53      0.02      0.04       945\n",
      "\n",
      "    accuracy                           0.93     14323\n",
      "   macro avg       0.73      0.51      0.50     14323\n",
      "weighted avg       0.91      0.93      0.90     14323\n",
      "\n"
     ]
    }
   ],
   "source": [
    "print(classification_report(y_test, y_pred))\n"
   ]
  },
  {
   "cell_type": "code",
   "execution_count": 16,
   "id": "3d2fef69",
   "metadata": {},
   "outputs": [],
   "source": [
    "#logistic regression for imbalanced dataset"
   ]
  },
  {
   "cell_type": "code",
   "execution_count": 17,
   "id": "61d729b5",
   "metadata": {},
   "outputs": [],
   "source": [
    "from sklearn.linear_model import LogisticRegression\n",
    "from sklearn.model_selection import train_test_split, GridSearchCV, cross_val_score, RepeatedStratifiedKFold, StratifiedKFold\n",
    "from sklearn.metrics import accuracy_score, confusion_matrix,roc_curve, roc_auc_score, precision_score, recall_score, precision_recall_curve\n",
    "from sklearn.metrics import f1_score\n"
   ]
  },
  {
   "cell_type": "code",
   "execution_count": 18,
   "id": "bcc6a071",
   "metadata": {},
   "outputs": [],
   "source": [
    "w = [{0:1000,1:100},{0:1000,1:10}, {0:1000,1:1.0}, \n",
    "     {0:500,1:1.0}, {0:400,1:1.0}, {0:300,1:1.0}, {0:200,1:1.0}, \n",
    "     {0:150,1:1.0}, {0:100,1:1.0}, {0:99,1:1.0}, {0:10,1:1.0}, \n",
    "     {0:0.01,1:1.0}, {0:0.01,1:10}, {0:0.01,1:100}, \n",
    "     {0:0.001,1:1.0}, {0:0.005,1:1.0}, {0:1.0,1:1.0}, \n",
    "     {0:1.0,1:0.1}, {0:10,1:0.1}, {0:100,1:0.1}, \n",
    "     {0:10,1:0.01}, {0:1.0,1:0.01}, {0:1.0,1:0.001}, {0:1.0,1:0.005}, \n",
    "     {0:1.0,1:10}, {0:1.0,1:99}, {0:1.0,1:100}, {0:1.0,1:150}, \n",
    "     {0:1.0,1:200}, {0:1.0,1:300},{0:1.0,1:400},{0:1.0,1:500}, \n",
    "     {0:1.0,1:1000}, {0:10,1:1000},{0:100,1:1000} ]\n",
    "hyperparam_grid = {\"class_weight\": w }\n",
    "\n"
   ]
  },
  {
   "cell_type": "code",
   "execution_count": 19,
   "id": "c4b123db",
   "metadata": {},
   "outputs": [
    {
     "name": "stdout",
     "output_type": "stream",
     "text": [
      "Best score: 0.6720103888307227 with param: {'class_weight': {0: 0.001, 1: 1.0}}\n"
     ]
    }
   ],
   "source": [
    "lg3 = LogisticRegression(random_state=13)\n",
    "# define evaluation procedure\n",
    "grid = GridSearchCV(lg3,hyperparam_grid,scoring=\"roc_auc\", cv=100, n_jobs=-1, refit=True)\n",
    "grid.fit(x_train,y_train)\n",
    "\n",
    "\n",
    "print(f'Best score: {grid.best_score_} with param: {grid.best_params_}')"
   ]
  },
  {
   "cell_type": "code",
   "execution_count": 20,
   "id": "e458d0d8",
   "metadata": {},
   "outputs": [
    {
     "data": {
      "text/plain": [
       "0.6720103888307227"
      ]
     },
     "execution_count": 20,
     "metadata": {},
     "output_type": "execute_result"
    }
   ],
   "source": [
    "#param optimal : w = {0: 0.001, 1: 1.0} \n",
    "grid.best_score_"
   ]
  },
  {
   "cell_type": "code",
   "execution_count": null,
   "id": "18344905",
   "metadata": {},
   "outputs": [],
   "source": []
  },
  {
   "cell_type": "code",
   "execution_count": null,
   "id": "b2021c1d",
   "metadata": {},
   "outputs": [],
   "source": []
  },
  {
   "cell_type": "code",
   "execution_count": null,
   "id": "f585c959",
   "metadata": {},
   "outputs": [],
   "source": []
  }
 ],
 "metadata": {
  "kernelspec": {
   "display_name": "Python 3 (ipykernel)",
   "language": "python",
   "name": "python3"
  },
  "language_info": {
   "codemirror_mode": {
    "name": "ipython",
    "version": 3
   },
   "file_extension": ".py",
   "mimetype": "text/x-python",
   "name": "python",
   "nbconvert_exporter": "python",
   "pygments_lexer": "ipython3",
   "version": "3.9.7"
  }
 },
 "nbformat": 4,
 "nbformat_minor": 5
}
