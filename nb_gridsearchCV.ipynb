{
 "cells": [
  {
   "cell_type": "code",
   "execution_count": 2,
   "id": "8a7a8e2b",
   "metadata": {},
   "outputs": [],
   "source": [
    "import numpy as np"
   ]
  },
  {
   "cell_type": "code",
   "execution_count": 3,
   "id": "dc1980ce",
   "metadata": {},
   "outputs": [],
   "source": [
    "param_grid_nb = {\n",
    "    'var_smoothing': np.logspace(0,-9, num=100)\n",
    "}"
   ]
  },
  {
   "cell_type": "code",
   "execution_count": 14,
   "id": "1c5db0ba",
   "metadata": {},
   "outputs": [],
   "source": [
    "from sklearn.naive_bayes import GaussianNB\n",
    "from sklearn.model_selection import GridSearchCV\n",
    "from sklearn.metrics import accuracy_score, confusion_matrix,roc_curve, roc_auc_score, precision_score, recall_score, precision_recall_curve\n",
    "\n",
    "import pandas as pd\n",
    "\n",
    "from sklearn.model_selection import train_test_split  \n"
   ]
  },
  {
   "cell_type": "code",
   "execution_count": 15,
   "id": "296d8a10",
   "metadata": {},
   "outputs": [],
   "source": [
    "df= pd.read_csv(\"retailsfinal.csv\")\n"
   ]
  },
  {
   "cell_type": "code",
   "execution_count": 16,
   "id": "d8bd438e",
   "metadata": {},
   "outputs": [],
   "source": [
    "features= ['Montant_Sollicité','Revenu_Annuel','Retenu_Mensuel',\n",
    "           'secteur_EMPLOYE','secteur_INCONNU','secteur_LIBERAL','secteur_RETRAITES',\n",
    "           'typecanevas_AUTO','typecanevas_CONSO','typecanevas_IMMO','sexe_F','sexe_M','age']\n",
    "x = df.loc[:, features].values\n",
    "x\n",
    "\n",
    "y= df.iloc[:, 9].values\n",
    "y=df['Décision_Finale']\n",
    "y\n",
    "\n",
    "X_train, X_test, y_train, y_test = train_test_split(x, y, test_size=0.5, random_state=0)\n"
   ]
  },
  {
   "cell_type": "code",
   "execution_count": 17,
   "id": "66afd973",
   "metadata": {},
   "outputs": [
    {
     "name": "stdout",
     "output_type": "stream",
     "text": [
      "Fitting 10 folds for each of 100 candidates, totalling 1000 fits\n",
      "GaussianNB(var_smoothing=0.0005336699231206307)\n"
     ]
    }
   ],
   "source": [
    "nbModel_grid = GridSearchCV(estimator=GaussianNB(), scoring=\"roc_auc\", param_grid=param_grid_nb, verbose=1, cv=10, n_jobs=-1)\n",
    "nbModel_grid.fit(X_train, y_train)\n",
    "\n",
    "\n",
    "print(nbModel_grid.best_estimator_)\n"
   ]
  },
  {
   "cell_type": "code",
   "execution_count": 18,
   "id": "dc95b933",
   "metadata": {},
   "outputs": [],
   "source": [
    "y_pred = nbModel_grid.predict(X_test)\n"
   ]
  },
  {
   "cell_type": "code",
   "execution_count": 13,
   "id": "99eb8bdc",
   "metadata": {},
   "outputs": [
    {
     "name": "stdout",
     "output_type": "stream",
     "text": [
      "[[26700    63]\n",
      " [ 1822    60]] : is the confusion matrix\n",
      "0.9341944492930704 : is the accuracy score\n",
      "0.4878048780487805 : is the precision score\n",
      "0.031880977683315624 : is the recall score\n",
      "0.059850374064837904 : is the f1 score\n"
     ]
    }
   ],
   "source": [
    "from sklearn.metrics import confusion_matrix\n",
    "print(confusion_matrix(y_test, y_pred), \": is the confusion matrix\")\n",
    "from sklearn.metrics import accuracy_score\n",
    "print(accuracy_score(y_test, y_pred), \": is the accuracy score\")\n",
    "from sklearn.metrics import precision_score\n",
    "print(precision_score(y_test, y_pred), \": is the precision score\")\n",
    "from sklearn.metrics import recall_score\n",
    "print(recall_score(y_test, y_pred), \": is the recall score\")\n",
    "from sklearn.metrics import f1_score\n",
    "print(f1_score(y_test, y_pred), \": is the f1 score\")\n"
   ]
  },
  {
   "cell_type": "code",
   "execution_count": 20,
   "id": "64f11b0d",
   "metadata": {},
   "outputs": [
    {
     "name": "stdout",
     "output_type": "stream",
     "text": [
      "Best score: 0.6389878916955911 with param: {'var_smoothing': 0.0005336699231206307}\n"
     ]
    }
   ],
   "source": [
    "print(f'Best score: {nbModel_grid.best_score_} with param: {nbModel_grid.best_params_}')"
   ]
  },
  {
   "cell_type": "code",
   "execution_count": null,
   "id": "2fd8348b",
   "metadata": {},
   "outputs": [],
   "source": []
  }
 ],
 "metadata": {
  "kernelspec": {
   "display_name": "Python 3 (ipykernel)",
   "language": "python",
   "name": "python3"
  },
  "language_info": {
   "codemirror_mode": {
    "name": "ipython",
    "version": 3
   },
   "file_extension": ".py",
   "mimetype": "text/x-python",
   "name": "python",
   "nbconvert_exporter": "python",
   "pygments_lexer": "ipython3",
   "version": "3.9.7"
  }
 },
 "nbformat": 4,
 "nbformat_minor": 5
}
